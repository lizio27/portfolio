{
 "cells": [
  {
   "cell_type": "code",
   "execution_count": 12,
   "id": "97a0555f",
   "metadata": {
    "scrolled": true
   },
   "outputs": [],
   "source": [
    "# Run this in a notebook cell\n",
    "\n",
    "import numpy as np\n",
    "import pandas as pd\n",
    "import yfinance as yf\n",
    "import matplotlib.pyplot as plt\n",
    "\n",
    "symbols = ['VUTY.MI', 'VWCE.DE', 'EUNW.DE']\n",
    "    "
   ]
  },
  {
   "cell_type": "code",
   "execution_count": 15,
   "id": "acf24c8b",
   "metadata": {
    "scrolled": false
   },
   "outputs": [
    {
     "name": "stderr",
     "output_type": "stream",
     "text": [
      "[*********************100%***********************]  1 of 1 completed\n",
      "[*********************100%***********************]  1 of 1 completed\n",
      "[*********************100%***********************]  1 of 1 completed\n"
     ]
    }
   ],
   "source": [
    "data = pd.DataFrame()\n",
    "for symbol in symbols:\n",
    "    asset_data=yf.download(symbol, start='2020-01-01', end='2024-06-28')\n",
    "    data[symbol]=asset_data['Close']"
   ]
  },
  {
   "cell_type": "code",
   "execution_count": 16,
   "id": "2c24737e",
   "metadata": {
    "scrolled": true
   },
   "outputs": [
    {
     "data": {
      "text/html": [
       "<div>\n",
       "<style scoped>\n",
       "    .dataframe tbody tr th:only-of-type {\n",
       "        vertical-align: middle;\n",
       "    }\n",
       "\n",
       "    .dataframe tbody tr th {\n",
       "        vertical-align: top;\n",
       "    }\n",
       "\n",
       "    .dataframe thead th {\n",
       "        text-align: right;\n",
       "    }\n",
       "</style>\n",
       "<table border=\"1\" class=\"dataframe\">\n",
       "  <thead>\n",
       "    <tr style=\"text-align: right;\">\n",
       "      <th></th>\n",
       "      <th>VUTY.MI</th>\n",
       "      <th>VWCE.DE</th>\n",
       "      <th>EUNW.DE</th>\n",
       "    </tr>\n",
       "    <tr>\n",
       "      <th>Date</th>\n",
       "      <th></th>\n",
       "      <th></th>\n",
       "      <th></th>\n",
       "    </tr>\n",
       "  </thead>\n",
       "  <tbody>\n",
       "    <tr>\n",
       "      <th>2020-01-02</th>\n",
       "      <td>19.708227</td>\n",
       "      <td>77.400002</td>\n",
       "      <td>84.708870</td>\n",
       "    </tr>\n",
       "    <tr>\n",
       "      <th>2020-01-03</th>\n",
       "      <td>19.809296</td>\n",
       "      <td>77.349998</td>\n",
       "      <td>84.612892</td>\n",
       "    </tr>\n",
       "    <tr>\n",
       "      <th>2020-01-06</th>\n",
       "      <td>19.774147</td>\n",
       "      <td>77.099998</td>\n",
       "      <td>84.480965</td>\n",
       "    </tr>\n",
       "    <tr>\n",
       "      <th>2020-01-07</th>\n",
       "      <td>19.857637</td>\n",
       "      <td>77.589996</td>\n",
       "      <td>84.532944</td>\n",
       "    </tr>\n",
       "    <tr>\n",
       "      <th>2020-01-08</th>\n",
       "      <td>19.884001</td>\n",
       "      <td>77.800003</td>\n",
       "      <td>84.500946</td>\n",
       "    </tr>\n",
       "    <tr>\n",
       "      <th>...</th>\n",
       "      <td>...</td>\n",
       "      <td>...</td>\n",
       "      <td>...</td>\n",
       "    </tr>\n",
       "    <tr>\n",
       "      <th>2024-06-21</th>\n",
       "      <td>19.673853</td>\n",
       "      <td>122.699997</td>\n",
       "      <td>89.448265</td>\n",
       "    </tr>\n",
       "    <tr>\n",
       "      <th>2024-06-24</th>\n",
       "      <td>19.586285</td>\n",
       "      <td>122.879997</td>\n",
       "      <td>89.671371</td>\n",
       "    </tr>\n",
       "    <tr>\n",
       "      <th>2024-06-25</th>\n",
       "      <td>19.644663</td>\n",
       "      <td>122.720001</td>\n",
       "      <td>89.661667</td>\n",
       "    </tr>\n",
       "    <tr>\n",
       "      <th>2024-06-26</th>\n",
       "      <td>19.620337</td>\n",
       "      <td>122.760002</td>\n",
       "      <td>89.607346</td>\n",
       "    </tr>\n",
       "    <tr>\n",
       "      <th>2024-06-27</th>\n",
       "      <td>19.620337</td>\n",
       "      <td>122.680000</td>\n",
       "      <td>89.597649</td>\n",
       "    </tr>\n",
       "  </tbody>\n",
       "</table>\n",
       "<p>1146 rows × 3 columns</p>\n",
       "</div>"
      ],
      "text/plain": [
       "              VUTY.MI     VWCE.DE    EUNW.DE\n",
       "Date                                        \n",
       "2020-01-02  19.708227   77.400002  84.708870\n",
       "2020-01-03  19.809296   77.349998  84.612892\n",
       "2020-01-06  19.774147   77.099998  84.480965\n",
       "2020-01-07  19.857637   77.589996  84.532944\n",
       "2020-01-08  19.884001   77.800003  84.500946\n",
       "...               ...         ...        ...\n",
       "2024-06-21  19.673853  122.699997  89.448265\n",
       "2024-06-24  19.586285  122.879997  89.671371\n",
       "2024-06-25  19.644663  122.720001  89.661667\n",
       "2024-06-26  19.620337  122.760002  89.607346\n",
       "2024-06-27  19.620337  122.680000  89.597649\n",
       "\n",
       "[1146 rows x 3 columns]"
      ]
     },
     "execution_count": 16,
     "metadata": {},
     "output_type": "execute_result"
    }
   ],
   "source": [
    "data"
   ]
  },
  {
   "cell_type": "code",
   "execution_count": 17,
   "id": "b7f328bd",
   "metadata": {
    "scrolled": true
   },
   "outputs": [
    {
     "data": {
      "image/png": "[encoded data removed]",
      "text/plain": [
       "<Figure size 432x288 with 1 Axes>"
      ]
     },
     "metadata": {
      "needs_background": "light"
     },
     "output_type": "display_data"
    }
   ],
   "source": [
    "normalized_data=data/data.iloc[0]\n",
    "normalized_data.plot()\n",
    "\n",
    "plt.title('Returns Your PTF')\n",
    "plt.xlabel('Date')\n",
    "plt.ylabel('Price')\n",
    "plt.show()"
   ]
  },
  {
   "cell_type": "code",
   "execution_count": 18,
   "id": "a7e2f501",
   "metadata": {},
   "outputs": [],
   "source": [
    "returns=data.pct_change().dropna()"
   ]
  },
  {
   "cell_type": "code",
   "execution_count": 19,
   "id": "962b7df9",
   "metadata": {},
   "outputs": [
    {
     "data": {
      "text/html": [
       "<div>\n",
       "<style scoped>\n",
       "    .dataframe tbody tr th:only-of-type {\n",
       "        vertical-align: middle;\n",
       "    }\n",
       "\n",
       "    .dataframe tbody tr th {\n",
       "        vertical-align: top;\n",
       "    }\n",
       "\n",
       "    .dataframe thead th {\n",
       "        text-align: right;\n",
       "    }\n",
       "</style>\n",
       "<table border=\"1\" class=\"dataframe\">\n",
       "  <thead>\n",
       "    <tr style=\"text-align: right;\">\n",
       "      <th></th>\n",
       "      <th>VUTY.MI</th>\n",
       "      <th>VWCE.DE</th>\n",
       "      <th>EUNW.DE</th>\n",
       "    </tr>\n",
       "    <tr>\n",
       "      <th>Date</th>\n",
       "      <th></th>\n",
       "      <th></th>\n",
       "      <th></th>\n",
       "    </tr>\n",
       "  </thead>\n",
       "  <tbody>\n",
       "    <tr>\n",
       "      <th>2020-01-03</th>\n",
       "      <td>0.005128</td>\n",
       "      <td>-0.000646</td>\n",
       "      <td>-0.001133</td>\n",
       "    </tr>\n",
       "    <tr>\n",
       "      <th>2020-01-06</th>\n",
       "      <td>-0.001774</td>\n",
       "      <td>-0.003232</td>\n",
       "      <td>-0.001559</td>\n",
       "    </tr>\n",
       "    <tr>\n",
       "      <th>2020-01-07</th>\n",
       "      <td>0.004222</td>\n",
       "      <td>0.006355</td>\n",
       "      <td>0.000615</td>\n",
       "    </tr>\n",
       "    <tr>\n",
       "      <th>2020-01-08</th>\n",
       "      <td>0.001328</td>\n",
       "      <td>0.002707</td>\n",
       "      <td>-0.000379</td>\n",
       "    </tr>\n",
       "    <tr>\n",
       "      <th>2020-01-09</th>\n",
       "      <td>-0.002431</td>\n",
       "      <td>0.007712</td>\n",
       "      <td>0.002177</td>\n",
       "    </tr>\n",
       "    <tr>\n",
       "      <th>...</th>\n",
       "      <td>...</td>\n",
       "      <td>...</td>\n",
       "      <td>...</td>\n",
       "    </tr>\n",
       "    <tr>\n",
       "      <th>2024-06-21</th>\n",
       "      <td>0.003474</td>\n",
       "      <td>-0.002925</td>\n",
       "      <td>-0.001105</td>\n",
       "    </tr>\n",
       "    <tr>\n",
       "      <th>2024-06-24</th>\n",
       "      <td>-0.004451</td>\n",
       "      <td>0.001467</td>\n",
       "      <td>0.002494</td>\n",
       "    </tr>\n",
       "    <tr>\n",
       "      <th>2024-06-25</th>\n",
       "      <td>0.002981</td>\n",
       "      <td>-0.001302</td>\n",
       "      <td>-0.000108</td>\n",
       "    </tr>\n",
       "    <tr>\n",
       "      <th>2024-06-26</th>\n",
       "      <td>-0.001238</td>\n",
       "      <td>0.000326</td>\n",
       "      <td>-0.000606</td>\n",
       "    </tr>\n",
       "    <tr>\n",
       "      <th>2024-06-27</th>\n",
       "      <td>0.000000</td>\n",
       "      <td>-0.000652</td>\n",
       "      <td>-0.000108</td>\n",
       "    </tr>\n",
       "  </tbody>\n",
       "</table>\n",
       "<p>1145 rows × 3 columns</p>\n",
       "</div>"
      ],
      "text/plain": [
       "             VUTY.MI   VWCE.DE   EUNW.DE\n",
       "Date                                    \n",
       "2020-01-03  0.005128 -0.000646 -0.001133\n",
       "2020-01-06 -0.001774 -0.003232 -0.001559\n",
       "2020-01-07  0.004222  0.006355  0.000615\n",
       "2020-01-08  0.001328  0.002707 -0.000379\n",
       "2020-01-09 -0.002431  0.007712  0.002177\n",
       "...              ...       ...       ...\n",
       "2024-06-21  0.003474 -0.002925 -0.001105\n",
       "2024-06-24 -0.004451  0.001467  0.002494\n",
       "2024-06-25  0.002981 -0.001302 -0.000108\n",
       "2024-06-26 -0.001238  0.000326 -0.000606\n",
       "2024-06-27  0.000000 -0.000652 -0.000108\n",
       "\n",
       "[1145 rows x 3 columns]"
      ]
     },
     "execution_count": 19,
     "metadata": {},
     "output_type": "execute_result"
    }
   ],
   "source": [
    "returns"
   ]
  },
  {
   "cell_type": "code",
   "execution_count": 20,
   "id": "f54356c8",
   "metadata": {},
   "outputs": [],
   "source": [
    "mean_returns= returns.mean()"
   ]
  },
  {
   "cell_type": "code",
   "execution_count": 21,
   "id": "9fd7314b",
   "metadata": {},
   "outputs": [
    {
     "data": {
      "text/plain": [
       "VUTY.MI    0.000010\n",
       "VWCE.DE    0.000461\n",
       "EUNW.DE    0.000066\n",
       "dtype: float64"
      ]
     },
     "execution_count": 21,
     "metadata": {},
     "output_type": "execute_result"
    }
   ],
   "source": [
    "mean_returns"
   ]
  },
  {
   "cell_type": "code",
   "execution_count": 22,
   "id": "159862cc",
   "metadata": {},
   "outputs": [
    {
     "name": "stdout",
     "output_type": "stream",
     "text": [
      "          VUTY.MI   VWCE.DE   EUNW.DE\n",
      "VUTY.MI  0.000028 -0.000010 -0.000007\n",
      "VWCE.DE -0.000010  0.000116  0.000044\n",
      "EUNW.DE -0.000007  0.000044  0.000033\n"
     ]
    }
   ],
   "source": [
    "cov_matrix=returns.cov()\n",
    "print(cov_matrix)"
   ]
  },
  {
   "cell_type": "code",
   "execution_count": 23,
   "id": "ffdbc303",
   "metadata": {},
   "outputs": [],
   "source": [
    "num_portfolios=10000\n",
    "weights_rd = np.random.random((num_portfolios,len(symbols)))\n",
    "weights_rd /= weights_rd.sum(axis=1,keepdims=True)"
   ]
  },
  {
   "cell_type": "code",
   "execution_count": 24,
   "id": "6dde4679",
   "metadata": {},
   "outputs": [],
   "source": [
    "portfolio_returns=np.dot(weights_rd,mean_returns)*252\n",
    "portfolio_std_devs=np.sqrt(np.einsum('ij,ji->i',weights_rd.dot(cov_matrix),weights_rd.T)*252)"
   ]
  },
  {
   "cell_type": "code",
   "execution_count": 26,
   "id": "d6a09e86",
   "metadata": {},
   "outputs": [],
   "source": [
    "current_weights = np.array([0.40, 0.40, 0.2])\n",
    "current_ptf_return=np.dot(current_weights,mean_returns)*252\n",
    "current_ptf_return\n",
    "current_ptf_std_dev = np.sqrt(np.dot(current_weights.T, np.dot(cov_matrix, current_weights))) * np.sqrt(252)"
   ]
  },
  {
   "cell_type": "code",
   "execution_count": 27,
   "id": "70be6c63",
   "metadata": {},
   "outputs": [
    {
     "data": {
      "image/png": "[encoded data removed]",
      "text/plain": [
       "<Figure size 432x288 with 1 Axes>"
      ]
     },
     "metadata": {
      "needs_background": "light"
     },
     "output_type": "display_data"
    }
   ],
   "source": [
    "plt.scatter(portfolio_std_devs, portfolio_returns, cmap='viridis')\n",
    "plt.xlabel('Standard Deviation')\n",
    "plt.ylabel('Expected Return')\n",
    "plt.title('Efficient Frontier')\n",
    "\n",
    "# Plot current portfolio allocation\n",
    "plt.scatter(current_ptf_std_dev, current_ptf_return, marker='o', color='m', s=100, label='Current Portfolio')\n",
    "\n",
    "plt.legend()\n",
    "plt.show()"
   ]
  },
  {
   "cell_type": "code",
   "execution_count": 31,
   "id": "7eb68458",
   "metadata": {
    "scrolled": true
   },
   "outputs": [
    {
     "data": {
      "image/png": "[encoded data removed]",
      "text/plain": [
       "<Figure size 432x288 with 1 Axes>"
      ]
     },
     "metadata": {
      "needs_background": "light"
     },
     "output_type": "display_data"
    }
   ],
   "source": [
    "#PLEASE FEEL FREE TO CHANGE WEIGHTS\n",
    "\n",
    "current_weights_CHANGE = np.array([0.1, 0.9, 0.1])\n",
    "current_ptf_return=np.dot(current_weights_CHANGE,mean_returns)*252\n",
    "current_ptf_return\n",
    "current_ptf_std_dev = np.sqrt(np.dot(current_weights_CHANGE.T, np.dot(cov_matrix, current_weights_CHANGE))) * np.sqrt(252)\n",
    "\n",
    "plt.scatter(portfolio_std_devs, portfolio_returns, cmap='viridis')\n",
    "plt.xlabel('Standard Deviation')\n",
    "plt.ylabel('Expected Return')\n",
    "plt.title('Efficient Frontier')\n",
    "\n",
    "# Plot current portfolio allocation\n",
    "plt.scatter(current_ptf_std_dev, current_ptf_return, marker='o', color='m', s=100, label='Current Portfolio')\n",
    "\n",
    "plt.legend()\n",
    "plt.show()"
   ]
  },
  {
   "cell_type": "code",
   "execution_count": null,
   "id": "5a114e2e",
   "metadata": {},
   "outputs": [],
   "source": []
  }
 ],
 "metadata": {
  "kernelspec": {
   "display_name": "Python 3 (ipykernel)",
   "language": "python",
   "name": "python3"
  },
  "language_info": {
   "codemirror_mode": {
    "name": "ipython",
    "version": 3
   },
   "file_extension": ".py",
   "mimetype": "text/x-python",
   "name": "python",
   "nbconvert_exporter": "python",
   "pygments_lexer": "ipython3",
   "version": "3.9.7"
  }
 },
 "nbformat": 4,
 "nbformat_minor": 5
}
